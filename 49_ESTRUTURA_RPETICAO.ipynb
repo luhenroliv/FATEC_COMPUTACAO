{
  "nbformat": 4,
  "nbformat_minor": 0,
  "metadata": {
    "colab": {
      "provenance": []
    },
    "kernelspec": {
      "name": "python3",
      "display_name": "Python 3"
    },
    "language_info": {
      "name": "python"
    }
  },
  "cells": [
    {
      "cell_type": "markdown",
      "source": [
        "#Estruturas de Repetição"
      ],
      "metadata": {
        "id": "RBIksBpWuDYj"
      }
    },
    {
      "cell_type": "markdown",
      "source": [
        "## WHILE"
      ],
      "metadata": {
        "id": "OAGZc17LuKdj"
      }
    },
    {
      "cell_type": "markdown",
      "source": [
        "- Criar um contador para exibir números de 0 a 100"
      ],
      "metadata": {
        "id": "HoWLTNn8uQpb"
      }
    },
    {
      "cell_type": "code",
      "execution_count": null,
      "metadata": {
        "colab": {
          "base_uri": "https://localhost:8080/"
        },
        "id": "5uSKKoZKnPrk",
        "outputId": "fb135ee0-7f95-4ffa-ec1d-056f19b8c7e8"
      },
      "outputs": [
        {
          "output_type": "stream",
          "name": "stdout",
          "text": [
            "0\n",
            "1\n",
            "2\n",
            "3\n",
            "4\n",
            "5\n",
            "6\n",
            "7\n",
            "8\n",
            "9\n",
            "10\n",
            "11\n",
            "12\n",
            "13\n",
            "14\n",
            "15\n",
            "16\n",
            "17\n",
            "18\n",
            "19\n",
            "20\n",
            "21\n",
            "22\n",
            "23\n",
            "24\n",
            "25\n",
            "26\n",
            "27\n",
            "28\n",
            "29\n",
            "30\n",
            "31\n",
            "32\n",
            "33\n",
            "34\n",
            "35\n",
            "36\n",
            "37\n",
            "38\n",
            "39\n",
            "40\n",
            "41\n",
            "42\n",
            "43\n",
            "44\n",
            "45\n",
            "46\n",
            "47\n",
            "48\n",
            "49\n",
            "50\n",
            "51\n",
            "52\n",
            "53\n",
            "54\n",
            "55\n",
            "56\n",
            "57\n",
            "58\n",
            "59\n",
            "60\n",
            "61\n",
            "62\n",
            "63\n",
            "64\n",
            "65\n",
            "66\n",
            "67\n",
            "68\n",
            "69\n",
            "70\n",
            "71\n",
            "72\n",
            "73\n",
            "74\n",
            "75\n",
            "76\n",
            "77\n",
            "78\n",
            "79\n",
            "80\n",
            "81\n",
            "82\n",
            "83\n",
            "84\n",
            "85\n",
            "86\n",
            "87\n",
            "88\n",
            "89\n",
            "90\n",
            "91\n",
            "92\n",
            "93\n",
            "94\n",
            "95\n",
            "96\n",
            "97\n",
            "98\n",
            "99\n",
            "100\n",
            "FIM\n"
          ]
        }
      ],
      "source": [
        "contador = 0\n",
        "while contador <= 100:\n",
        "  print(contador)\n",
        "  contador += 1 #contador = contador + 1\n",
        "print(\"FIM\")"
      ]
    },
    {
      "cell_type": "markdown",
      "source": [
        "- Medir o desempenho do laço while executando 100.000 iterações e observar quanto tempo ele leva para concluir essa tarefa"
      ],
      "metadata": {
        "id": "JB1dX4lLyk2D"
      }
    },
    {
      "cell_type": "code",
      "source": [
        "import time\n",
        "start_time = time.time()\n",
        "contador = 0\n",
        "while contador <= 100000:\n",
        "  contador+=1\n",
        "print(\"Tempo do while:\",time.time() - start_time)"
      ],
      "metadata": {
        "colab": {
          "base_uri": "https://localhost:8080/"
        },
        "id": "sQ54vSwzynSC",
        "outputId": "4d90f7c0-8049-43b7-8e66-1cfe707eadb1"
      },
      "execution_count": null,
      "outputs": [
        {
          "output_type": "stream",
          "name": "stdout",
          "text": [
            "Tempo do while: 0.026256561279296875\n"
          ]
        }
      ]
    },
    {
      "cell_type": "markdown",
      "source": [
        "- Tabuada de um número digitado pelo usuário"
      ],
      "metadata": {
        "id": "_M9ICq4l0jFy"
      }
    },
    {
      "cell_type": "code",
      "source": [
        "numero = int(input(\"Digite o valor da tabuada\"))\n",
        "contador = 1\n",
        "while contador <= 10:\n",
        "  print(f\"{numero} x {contador} = {numero * contador} \")\n",
        "  contador+=1"
      ],
      "metadata": {
        "colab": {
          "base_uri": "https://localhost:8080/"
        },
        "id": "sqOgatnD1w1C",
        "outputId": "116d713c-758e-4045-b075-df790bcd4c02"
      },
      "execution_count": null,
      "outputs": [
        {
          "output_type": "stream",
          "name": "stdout",
          "text": [
            "Digite o valor da tabuada7\n",
            "7 x 1 = 7 \n",
            "7 x 2 = 14 \n",
            "7 x 3 = 21 \n",
            "7 x 4 = 28 \n",
            "7 x 5 = 35 \n",
            "7 x 6 = 42 \n",
            "7 x 7 = 49 \n",
            "7 x 8 = 56 \n",
            "7 x 9 = 63 \n",
            "7 x 10 = 70 \n"
          ]
        }
      ]
    },
    {
      "cell_type": "markdown",
      "source": [
        "- Contagem regressiva"
      ],
      "metadata": {
        "id": "wluUQ71P4STQ"
      }
    },
    {
      "cell_type": "code",
      "source": [
        "contador = 100\n",
        "while contador >= 0:\n",
        "  print(contador)\n",
        "  contador-=1 #contador = contador - 1"
      ],
      "metadata": {
        "colab": {
          "base_uri": "https://localhost:8080/"
        },
        "id": "ecAwWrt14ZYN",
        "outputId": "f29b6d6f-5f5d-4e05-8097-2b34da90de4a"
      },
      "execution_count": null,
      "outputs": [
        {
          "output_type": "stream",
          "name": "stdout",
          "text": [
            "100\n",
            "99\n",
            "98\n",
            "97\n",
            "96\n",
            "95\n",
            "94\n",
            "93\n",
            "92\n",
            "91\n",
            "90\n",
            "89\n",
            "88\n",
            "87\n",
            "86\n",
            "85\n",
            "84\n",
            "83\n",
            "82\n",
            "81\n",
            "80\n",
            "79\n",
            "78\n",
            "77\n",
            "76\n",
            "75\n",
            "74\n",
            "73\n",
            "72\n",
            "71\n",
            "70\n",
            "69\n",
            "68\n",
            "67\n",
            "66\n",
            "65\n",
            "64\n",
            "63\n",
            "62\n",
            "61\n",
            "60\n",
            "59\n",
            "58\n",
            "57\n",
            "56\n",
            "55\n",
            "54\n",
            "53\n",
            "52\n",
            "51\n",
            "50\n",
            "49\n",
            "48\n",
            "47\n",
            "46\n",
            "45\n",
            "44\n",
            "43\n",
            "42\n",
            "41\n",
            "40\n",
            "39\n",
            "38\n",
            "37\n",
            "36\n",
            "35\n",
            "34\n",
            "33\n",
            "32\n",
            "31\n",
            "30\n",
            "29\n",
            "28\n",
            "27\n",
            "26\n",
            "25\n",
            "24\n",
            "23\n",
            "22\n",
            "21\n",
            "20\n",
            "19\n",
            "18\n",
            "17\n",
            "16\n",
            "15\n",
            "14\n",
            "13\n",
            "12\n",
            "11\n",
            "10\n",
            "9\n",
            "8\n",
            "7\n",
            "6\n",
            "5\n",
            "4\n",
            "3\n",
            "2\n",
            "1\n",
            "0\n"
          ]
        }
      ]
    },
    {
      "cell_type": "markdown",
      "source": [
        "- Impares entre 0 e 100"
      ],
      "metadata": {
        "id": "f_cbSj_O6qrB"
      }
    },
    {
      "cell_type": "code",
      "source": [
        "contador = 0\n",
        "while contador <= 99:\n",
        "  contador+=1\n",
        "  print(contador)\n",
        "  contador+=1"
      ],
      "metadata": {
        "colab": {
          "base_uri": "https://localhost:8080/"
        },
        "id": "8OyfuA8l6swF",
        "outputId": "d3c30f64-706f-422c-ecbd-2e3894279bd8"
      },
      "execution_count": null,
      "outputs": [
        {
          "output_type": "stream",
          "name": "stdout",
          "text": [
            "1\n",
            "3\n",
            "5\n",
            "7\n",
            "9\n",
            "11\n",
            "13\n",
            "15\n",
            "17\n",
            "19\n",
            "21\n",
            "23\n",
            "25\n",
            "27\n",
            "29\n",
            "31\n",
            "33\n",
            "35\n",
            "37\n",
            "39\n",
            "41\n",
            "43\n",
            "45\n",
            "47\n",
            "49\n",
            "51\n",
            "53\n",
            "55\n",
            "57\n",
            "59\n",
            "61\n",
            "63\n",
            "65\n",
            "67\n",
            "69\n",
            "71\n",
            "73\n",
            "75\n",
            "77\n",
            "79\n",
            "81\n",
            "83\n",
            "85\n",
            "87\n",
            "89\n",
            "91\n",
            "93\n",
            "95\n",
            "97\n",
            "99\n"
          ]
        }
      ]
    },
    {
      "cell_type": "code",
      "source": [
        "contador = 0\n",
        "while contador <= 100:\n",
        "  if contador % 2 != 0:\n",
        "    print(contador)\n",
        "  contador+=1"
      ],
      "metadata": {
        "colab": {
          "base_uri": "https://localhost:8080/"
        },
        "id": "yGpyX7gq769p",
        "outputId": "60e05eb2-3dbf-4ef6-f28b-06af5470ae02"
      },
      "execution_count": null,
      "outputs": [
        {
          "output_type": "stream",
          "name": "stdout",
          "text": [
            "1\n",
            "3\n",
            "5\n",
            "7\n",
            "9\n",
            "11\n",
            "13\n",
            "15\n",
            "17\n",
            "19\n",
            "21\n",
            "23\n",
            "25\n",
            "27\n",
            "29\n",
            "31\n",
            "33\n",
            "35\n",
            "37\n",
            "39\n",
            "41\n",
            "43\n",
            "45\n",
            "47\n",
            "49\n",
            "51\n",
            "53\n",
            "55\n",
            "57\n",
            "59\n",
            "61\n",
            "63\n",
            "65\n",
            "67\n",
            "69\n",
            "71\n",
            "73\n",
            "75\n",
            "77\n",
            "79\n",
            "81\n",
            "83\n",
            "85\n",
            "87\n",
            "89\n",
            "91\n",
            "93\n",
            "95\n",
            "97\n",
            "99\n"
          ]
        }
      ]
    },
    {
      "cell_type": "markdown",
      "source": [
        "- Pares de 0 a 100"
      ],
      "metadata": {
        "id": "aAo4RRee9QWh"
      }
    },
    {
      "cell_type": "code",
      "source": [
        "contador = 0\n",
        "while contador <= 100:\n",
        "  print(contador)\n",
        "  contador+=2"
      ],
      "metadata": {
        "colab": {
          "base_uri": "https://localhost:8080/"
        },
        "id": "DtLpAXsq9SMR",
        "outputId": "9c3731ae-7dd1-478c-8f45-667a19cd4de1"
      },
      "execution_count": null,
      "outputs": [
        {
          "output_type": "stream",
          "name": "stdout",
          "text": [
            "0\n",
            "2\n",
            "4\n",
            "6\n",
            "8\n",
            "10\n",
            "12\n",
            "14\n",
            "16\n",
            "18\n",
            "20\n",
            "22\n",
            "24\n",
            "26\n",
            "28\n",
            "30\n",
            "32\n",
            "34\n",
            "36\n",
            "38\n",
            "40\n",
            "42\n",
            "44\n",
            "46\n",
            "48\n",
            "50\n",
            "52\n",
            "54\n",
            "56\n",
            "58\n",
            "60\n",
            "62\n",
            "64\n",
            "66\n",
            "68\n",
            "70\n",
            "72\n",
            "74\n",
            "76\n",
            "78\n",
            "80\n",
            "82\n",
            "84\n",
            "86\n",
            "88\n",
            "90\n",
            "92\n",
            "94\n",
            "96\n",
            "98\n",
            "100\n"
          ]
        }
      ]
    },
    {
      "cell_type": "code",
      "source": [
        "contador = 0\n",
        "while contador <= 100:\n",
        "  if contador % 2 == 0:\n",
        "    print(contador)\n",
        "  contador+=1"
      ],
      "metadata": {
        "colab": {
          "base_uri": "https://localhost:8080/"
        },
        "id": "_c7i4PaY-Li5",
        "outputId": "bd40a1b8-e89e-45fb-ff57-3f5bc2ef90ca"
      },
      "execution_count": null,
      "outputs": [
        {
          "output_type": "stream",
          "name": "stdout",
          "text": [
            "0\n",
            "2\n",
            "4\n",
            "6\n",
            "8\n",
            "10\n",
            "12\n",
            "14\n",
            "16\n",
            "18\n",
            "20\n",
            "22\n",
            "24\n",
            "26\n",
            "28\n",
            "30\n",
            "32\n",
            "34\n",
            "36\n",
            "38\n",
            "40\n",
            "42\n",
            "44\n",
            "46\n",
            "48\n",
            "50\n",
            "52\n",
            "54\n",
            "56\n",
            "58\n",
            "60\n",
            "62\n",
            "64\n",
            "66\n",
            "68\n",
            "70\n",
            "72\n",
            "74\n",
            "76\n",
            "78\n",
            "80\n",
            "82\n",
            "84\n",
            "86\n",
            "88\n",
            "90\n",
            "92\n",
            "94\n",
            "96\n",
            "98\n",
            "100\n"
          ]
        }
      ]
    },
    {
      "cell_type": "markdown",
      "source": [
        "- Neste desafio, o jogador deverá adivinhar um número aleatório entre 1 e 100.\n",
        "O loop while continuará até que o jogador acerte o número."
      ],
      "metadata": {
        "id": "bloDlnBR-ptf"
      }
    },
    {
      "cell_type": "code",
      "source": [
        "import random\n",
        "\n",
        "numero_secreto = random.randint(1,5)\n",
        "tentativa = None\n",
        "while tentativa != numero_secreto:\n",
        "  tentativa = int(input(\"Adivinhe o número entre 1 e 5: \"))\n",
        "  if tentativa > numero_secreto:\n",
        "    print(\"Número maior que o sorteado\")\n",
        "  elif tentativa < numero_secreto:\n",
        "    print(\"Número menor que o sorteado\")\n",
        "  else:\n",
        "    print(\"Parabéns, você acertou!\")\n"
      ],
      "metadata": {
        "colab": {
          "base_uri": "https://localhost:8080/"
        },
        "id": "h_0wLi4g-raP",
        "outputId": "710204f4-33b3-4376-8be0-9737858f4030"
      },
      "execution_count": null,
      "outputs": [
        {
          "output_type": "stream",
          "name": "stdout",
          "text": [
            "Adivinhe o número entre 1 e 51\n",
            "Número menor que o sorteado\n",
            "Adivinhe o número entre 1 e 52\n",
            "Número menor que o sorteado\n",
            "Adivinhe o número entre 1 e 53\n",
            "Número menor que o sorteado\n",
            "Adivinhe o número entre 1 e 54\n",
            "Parabéns, você acertou!\n"
          ]
        }
      ]
    },
    {
      "cell_type": "code",
      "source": [
        "fatorial = int(input(\"Digite o valor para calcular o fatorial\"))\n",
        "mult = 1\n",
        "contador = 1\n",
        "while contador <= fatorial:\n",
        "  mult = mult * contador\n",
        "  contador = contador + 1\n",
        "print(mult)"
      ],
      "metadata": {
        "colab": {
          "base_uri": "https://localhost:8080/"
        },
        "id": "5BhP_6LgKlL9",
        "outputId": "4c6f59de-6211-42e8-86ef-00ddac8f44c5"
      },
      "execution_count": null,
      "outputs": [
        {
          "output_type": "stream",
          "name": "stdout",
          "text": [
            "Digite o valor para calcular o fatorial8\n",
            "40320\n"
          ]
        }
      ]
    },
    {
      "cell_type": "code",
      "source": [
        "fatorial = int(input(\"Digite o valor para calcular o fatorial\"))\n",
        "mult = 1\n",
        "while fatorial >= 1:\n",
        "  mult = mult * fatorial\n",
        "  print(fatorial)\n",
        "  fatorial = fatorial - 1\n",
        "print(mult)"
      ],
      "metadata": {
        "colab": {
          "base_uri": "https://localhost:8080/"
        },
        "id": "4OqKbY5KMCHu",
        "outputId": "d1a0a656-f89c-42a6-a5c2-b28c33941e93"
      },
      "execution_count": null,
      "outputs": [
        {
          "output_type": "stream",
          "name": "stdout",
          "text": [
            "Digite o valor para calcular o fatorial5\n",
            "5\n",
            "4\n",
            "3\n",
            "2\n",
            "1\n",
            "120\n"
          ]
        }
      ]
    },
    {
      "cell_type": "markdown",
      "source": [
        "- Implementar um programa para percorrer uma lista de frutas e exibir cada item."
      ],
      "metadata": {
        "id": "TVfTDo2YtS5i"
      }
    },
    {
      "cell_type": "code",
      "source": [
        "frutas = ['maçã','banana','laranja']\n",
        "for fruta in frutas:\n",
        "  print(fruta)"
      ],
      "metadata": {
        "colab": {
          "base_uri": "https://localhost:8080/"
        },
        "id": "sqvs0S2ltYz7",
        "outputId": "d94f50d4-d3e7-42ab-ed85-b1cc188a027c"
      },
      "execution_count": null,
      "outputs": [
        {
          "output_type": "stream",
          "name": "stdout",
          "text": [
            "maçã\n",
            "banana\n",
            "laranja\n"
          ]
        }
      ]
    },
    {
      "cell_type": "markdown",
      "source": [
        "- Parâmetro STOP"
      ],
      "metadata": {
        "id": "oIszaJQLvzDp"
      }
    },
    {
      "cell_type": "code",
      "source": [
        "# start = 0, stop = 5, step = 1\n",
        "for i in range(5):\n",
        "  print(i)"
      ],
      "metadata": {
        "colab": {
          "base_uri": "https://localhost:8080/"
        },
        "id": "VfUatvxBvyj5",
        "outputId": "c4d8bad3-e746-4579-8df9-492033b794f5"
      },
      "execution_count": null,
      "outputs": [
        {
          "output_type": "stream",
          "name": "stdout",
          "text": [
            "0\n",
            "1\n",
            "2\n",
            "3\n",
            "4\n"
          ]
        }
      ]
    },
    {
      "cell_type": "markdown",
      "source": [
        " - Parâmetro START e STOP"
      ],
      "metadata": {
        "id": "LGAl3aHjwwDt"
      }
    },
    {
      "cell_type": "code",
      "source": [
        "# start = 3, stop = 8, step = 1\n",
        "for i in range(3, 8):\n",
        "  print(i)"
      ],
      "metadata": {
        "colab": {
          "base_uri": "https://localhost:8080/"
        },
        "id": "E53Xr5RxwzTv",
        "outputId": "e3f594c6-7a94-4f4c-81f7-bf3296cf0312"
      },
      "execution_count": null,
      "outputs": [
        {
          "output_type": "stream",
          "name": "stdout",
          "text": [
            "3\n",
            "4\n",
            "5\n",
            "6\n",
            "7\n"
          ]
        }
      ]
    },
    {
      "cell_type": "markdown",
      "source": [
        "- Parâmetro START, STOP e STEP"
      ],
      "metadata": {
        "id": "747lFVuVxLfu"
      }
    },
    {
      "cell_type": "code",
      "source": [
        "#start = 2, stop = 10, step = 2\n",
        "for i in range(2, 10, 2):\n",
        "  print(i)"
      ],
      "metadata": {
        "colab": {
          "base_uri": "https://localhost:8080/"
        },
        "id": "-zvbBIizxOgg",
        "outputId": "e4aba53a-e5c2-4c90-c401-b36e8fe7d40e"
      },
      "execution_count": null,
      "outputs": [
        {
          "output_type": "stream",
          "name": "stdout",
          "text": [
            "2\n",
            "4\n",
            "6\n",
            "8\n"
          ]
        }
      ]
    },
    {
      "cell_type": "code",
      "source": [
        "for i in range(100, 0, -1):\n",
        "  print(i)"
      ],
      "metadata": {
        "colab": {
          "base_uri": "https://localhost:8080/"
        },
        "id": "nmSJO4DGzBPC",
        "outputId": "332fb452-f020-47ea-b886-d877f2ec95e6"
      },
      "execution_count": null,
      "outputs": [
        {
          "output_type": "stream",
          "name": "stdout",
          "text": [
            "100\n",
            "99\n",
            "98\n",
            "97\n",
            "96\n",
            "95\n",
            "94\n",
            "93\n",
            "92\n",
            "91\n",
            "90\n",
            "89\n",
            "88\n",
            "87\n",
            "86\n",
            "85\n",
            "84\n",
            "83\n",
            "82\n",
            "81\n",
            "80\n",
            "79\n",
            "78\n",
            "77\n",
            "76\n",
            "75\n",
            "74\n",
            "73\n",
            "72\n",
            "71\n",
            "70\n",
            "69\n",
            "68\n",
            "67\n",
            "66\n",
            "65\n",
            "64\n",
            "63\n",
            "62\n",
            "61\n",
            "60\n",
            "59\n",
            "58\n",
            "57\n",
            "56\n",
            "55\n",
            "54\n",
            "53\n",
            "52\n",
            "51\n",
            "50\n",
            "49\n",
            "48\n",
            "47\n",
            "46\n",
            "45\n",
            "44\n",
            "43\n",
            "42\n",
            "41\n",
            "40\n",
            "39\n",
            "38\n",
            "37\n",
            "36\n",
            "35\n",
            "34\n",
            "33\n",
            "32\n",
            "31\n",
            "30\n",
            "29\n",
            "28\n",
            "27\n",
            "26\n",
            "25\n",
            "24\n",
            "23\n",
            "22\n",
            "21\n",
            "20\n",
            "19\n",
            "18\n",
            "17\n",
            "16\n",
            "15\n",
            "14\n",
            "13\n",
            "12\n",
            "11\n",
            "10\n",
            "9\n",
            "8\n",
            "7\n",
            "6\n",
            "5\n",
            "4\n",
            "3\n",
            "2\n",
            "1\n"
          ]
        }
      ]
    },
    {
      "cell_type": "markdown",
      "source": [
        "- Desempenho da Estrutura FOR"
      ],
      "metadata": {
        "id": "8QNBGwJfzYFO"
      }
    },
    {
      "cell_type": "code",
      "source": [
        "import time\n",
        "\n",
        "start_time = time.time()\n",
        "for i in range(10000):\n",
        "  pass\n",
        "print(\"Tempo do for:\", time.time() - start_time)"
      ],
      "metadata": {
        "colab": {
          "base_uri": "https://localhost:8080/"
        },
        "id": "vS_i1Ygzzby-",
        "outputId": "bf501a5a-045a-4b82-97e3-33cd44e2debf"
      },
      "execution_count": null,
      "outputs": [
        {
          "output_type": "stream",
          "name": "stdout",
          "text": [
            "Tempo do for: 0.0006883144378662109\n"
          ]
        }
      ]
    },
    {
      "cell_type": "markdown",
      "source": [
        "- Comparação de Desempenho entre o WHILE e FOR"
      ],
      "metadata": {
        "id": "KOdq1L0o0uu-"
      }
    },
    {
      "cell_type": "code",
      "source": [
        "import time\n",
        "\n",
        "start_time = time.time()\n",
        "contador = 0\n",
        "while(contador < 10000):\n",
        "  contador+=1\n",
        "tempo_while = time.time() - start_time\n",
        "\n",
        "start_time = time.time()\n",
        "for i in range(10000):\n",
        "  pass\n",
        "tempo_for = time.time() - start_time\n",
        "\n",
        "print(f\"Tempo do WHILE:\", {tempo_while})\n",
        "print(f\"Tempo do FOR:\", {tempo_for})"
      ],
      "metadata": {
        "colab": {
          "base_uri": "https://localhost:8080/"
        },
        "id": "t_bIMbYb0uBH",
        "outputId": "f9c15d75-889c-40d7-dc4d-1238353eccdf"
      },
      "execution_count": null,
      "outputs": [
        {
          "output_type": "stream",
          "name": "stdout",
          "text": [
            "Tempo do WHILE: {0.0012443065643310547}\n",
            "Tempo do FOR: {0.0005209445953369141}\n"
          ]
        }
      ]
    },
    {
      "cell_type": "markdown",
      "source": [
        "- Desenvolva um programa que receba o nome e a idade de N pessoas, verifique e mostre o nome e a idade da pessoa mais velha, da pessoa mais nova e a quantidade de pessoas lidas. O programa deve perguntar ao final da digitação dos dados se o usuário deseja continuar digitando dados."
      ],
      "metadata": {
        "id": "M5Np6E0I4LeY"
      }
    },
    {
      "cell_type": "code",
      "source": [
        "digitado = None\n",
        "nome_menor = None\n",
        "idade_menor = None\n",
        "nome_maior = None\n",
        "idade_maior = None\n",
        "quantidade_pessoas = 0\n",
        "\n",
        "while digitado != 'N':\n",
        "  digitado = input('Deseja continuar? Digite \"N\" para Não ou qualquer tecla para Sim: ')\n",
        "  if digitado != 'N':\n",
        "    nome = input(\"Digite um nome: \")\n",
        "    idade = int(input(\"Digite a idade: \"))\n",
        "\n",
        "    quantidade_pessoas += 1\n",
        "\n",
        "    if idade_maior is None or idade > idade_maior:\n",
        "      nome_maior = nome\n",
        "      idade_maior = idade\n",
        "\n",
        "    if idade_menor is None or idade < idade_menor:\n",
        "      nome_menor = nome\n",
        "      idade_menor = idade\n",
        "\n",
        "if quantidade_pessoas > 0:\n",
        "  print(f\"A pessoa mais velha é {nome_maior} com {idade_maior} anos\")\n",
        "  print(f\"A pessoa mais nova é {nome_menor} com {idade_menor} anos\")\n",
        "  print(f\"Total de pessoas cadastradas: {quantidade_pessoas}\")\n",
        "else:\n",
        "  print(\"Nenhuma pessoa foi cadastrada\")"
      ],
      "metadata": {
        "colab": {
          "base_uri": "https://localhost:8080/"
        },
        "id": "1I2Ppa0q4JwC",
        "outputId": "24b23a71-40fe-4711-d1ff-4f16ce98482a"
      },
      "execution_count": null,
      "outputs": [
        {
          "output_type": "stream",
          "name": "stdout",
          "text": [
            "Deseja continuar? Digite \"N\" para Não ou qualquer tecla para Sim: \n",
            "Digite um nome: Renan\n",
            "Digite a idade: 22\n",
            "Deseja continuar? Digite \"N\" para Não ou qualquer tecla para Sim: \n",
            "Digite um nome: Gabriel\n",
            "Digite a idade: 25\n",
            "Deseja continuar? Digite \"N\" para Não ou qualquer tecla para Sim: \n",
            "Digite um nome: Pedro\n",
            "Digite a idade: 15\n",
            "Deseja continuar? Digite \"N\" para Não ou qualquer tecla para Sim: N\n",
            "A pessoa mais velha é Gabriel com 25 anos\n",
            "A pessoa mais nova é Pedro com 15 anos\n",
            "Total de pessoas cadastradas: 3\n"
          ]
        }
      ]
    },
    {
      "cell_type": "markdown",
      "source": [
        "- Construa um programa que permita fazer um levantamento do estoque de vinhos de uma adega, tendo como dados de entrada tipos de vinho, sendo: “T” para Tinto, “B” para Branco e “R” para Rosê. Especifique a quantidade e a porcentagem de cada tipo sobre o total geral de vinhos; a quantidade de vinhos é desconhecida, utilize como finalizador “F” de fim."
      ],
      "metadata": {
        "id": "VEWBdFeTJcB-"
      }
    },
    {
      "cell_type": "code",
      "source": [
        "digitado = None\n",
        "tinto = 0\n",
        "branco = 0\n",
        "rose = 0\n",
        "quantidade_total = 0\n",
        "\n",
        "while digitado != 'F':\n",
        "  digitado = input('Deseja continuar? Digite \"F\" para Finalizar ou qualquer tecla para Continuar: ')\n",
        "  if digitado != 'F':\n",
        "    vinho = input(\"Digite 'T' para Vinho Tinto, 'B' para Vinho Branco ou 'R' para Vinho Rosê: \")\n",
        "\n",
        "    if vinho == 'T' or vinho == 'B' or vinho == 'R':\n",
        "      quantidade_total += 1\n",
        "\n",
        "      if vinho == 'T':\n",
        "       tinto+=1\n",
        "\n",
        "      if vinho == 'B':\n",
        "       branco+=1\n",
        "\n",
        "      if vinho == 'R':\n",
        "        rose+=1\n",
        "\n",
        "if quantidade_total > 0:\n",
        "  print(f\"A porcentagem do vinho tinto é: {(tinto/quantidade_total)*100}%\")\n",
        "  print(f\"A porcentagem do vinho branco é: {(branco/quantidade_total)*100}%\")\n",
        "  print(f\"A porcentagem do vinho rose é: {(rose/quantidade_total)*100}%\")\n",
        "else:\n",
        "  print(\"Nenhuma vinho foi cadastrado\")"
      ],
      "metadata": {
        "colab": {
          "base_uri": "https://localhost:8080/"
        },
        "id": "1EKGaX_IJd_l",
        "outputId": "d52eaf61-3724-4e8d-d3ae-a98a5505be49"
      },
      "execution_count": null,
      "outputs": [
        {
          "output_type": "stream",
          "name": "stdout",
          "text": [
            "Deseja continuar? Digite \"F\" para Finalizar ou qualquer tecla para Continuar: \n",
            "Digite 'T' para Vinho Tinto, 'B' para Vinho Branco ou 'R' para Vinho Rosê: T\n",
            "Deseja continuar? Digite \"F\" para Finalizar ou qualquer tecla para Continuar: \n",
            "Digite 'T' para Vinho Tinto, 'B' para Vinho Branco ou 'R' para Vinho Rosê: T\n",
            "Deseja continuar? Digite \"F\" para Finalizar ou qualquer tecla para Continuar: \n",
            "Digite 'T' para Vinho Tinto, 'B' para Vinho Branco ou 'R' para Vinho Rosê: T\n",
            "Deseja continuar? Digite \"F\" para Finalizar ou qualquer tecla para Continuar: \n",
            "Digite 'T' para Vinho Tinto, 'B' para Vinho Branco ou 'R' para Vinho Rosê: B\n",
            "Deseja continuar? Digite \"F\" para Finalizar ou qualquer tecla para Continuar: \n",
            "Digite 'T' para Vinho Tinto, 'B' para Vinho Branco ou 'R' para Vinho Rosê: B\n",
            "Deseja continuar? Digite \"F\" para Finalizar ou qualquer tecla para Continuar: F\n",
            "A porcentagem do vinho tinto é: 60.0%\n",
            "A porcentagem do vinho branco é: 40.0%\n",
            "A porcentagem do vinho rose é: 0.0%\n"
          ]
        }
      ]
    },
    {
      "cell_type": "code",
      "source": [
        "salario = 2000\n",
        "if 2500 >= float(salario) >= 1000:\n",
        "  print(\"ok\")"
      ],
      "metadata": {
        "colab": {
          "base_uri": "https://localhost:8080/"
        },
        "id": "qGURhoHLJ1iD",
        "outputId": "04642000-78b1-429c-dab9-f7fc8d2e3707"
      },
      "execution_count": null,
      "outputs": [
        {
          "output_type": "stream",
          "name": "stdout",
          "text": [
            "ok\n"
          ]
        }
      ]
    }
  ]
}