{
  "nbformat": 4,
  "nbformat_minor": 0,
  "metadata": {
    "colab": {
      "provenance": []
    },
    "kernelspec": {
      "name": "python3",
      "display_name": "Python 3"
    },
    "language_info": {
      "name": "python"
    }
  },
  "cells": [
    {
      "cell_type": "markdown",
      "source": [
        "#Introdução às Funções em Python"
      ],
      "metadata": {
        "id": "bpg5k8rDugGz"
      }
    },
    {
      "cell_type": "markdown",
      "source": [
        "## Funções Básicas"
      ],
      "metadata": {
        "id": "C3w8qcw6u3O5"
      }
    },
    {
      "cell_type": "markdown",
      "source": [
        "- type()"
      ],
      "metadata": {
        "id": "320LGua_x5E5"
      }
    },
    {
      "cell_type": "code",
      "execution_count": null,
      "metadata": {
        "colab": {
          "base_uri": "https://localhost:8080/"
        },
        "id": "D6Brajd1uRHD",
        "outputId": "a16c3567-6625-4423-eb0a-e5497ac11d48"
      },
      "outputs": [
        {
          "output_type": "stream",
          "name": "stdout",
          "text": [
            "Digite uma idade: 25\n",
            "O tipo de idade é:  <class 'int'>\n"
          ]
        }
      ],
      "source": [
        "#idade = 25\n",
        "idade = int(input(\"Digite uma idade: \"))\n",
        "print(\"O tipo de idade é: \", type(idade))"
      ]
    },
    {
      "cell_type": "markdown",
      "source": [
        "- len()"
      ],
      "metadata": {
        "id": "QFrX0r6vywx3"
      }
    },
    {
      "cell_type": "code",
      "source": [
        "nome = \"Python\"\n",
        "print(\"O número de caracteres em 'Python é: '\", len(nome))"
      ],
      "metadata": {
        "colab": {
          "base_uri": "https://localhost:8080/"
        },
        "id": "Wef5lU2Ay3u-",
        "outputId": "24886bc8-8c27-4893-b845-0c6b96ed5ee4"
      },
      "execution_count": null,
      "outputs": [
        {
          "output_type": "stream",
          "name": "stdout",
          "text": [
            "O número de caracteres em 'Python é: ' 6\n"
          ]
        }
      ]
    },
    {
      "cell_type": "markdown",
      "source": [
        "- round()"
      ],
      "metadata": {
        "id": "wN_ZFM4kz9qg"
      }
    },
    {
      "cell_type": "code",
      "source": [
        "numero = 3.14159\n",
        "print(\"Arredondado para 3 casas: \", round(numero, 3))"
      ],
      "metadata": {
        "colab": {
          "base_uri": "https://localhost:8080/"
        },
        "id": "uPKI3rV4z_52",
        "outputId": "ecfc4b28-a6ea-43d1-8456-086a29b63f74"
      },
      "execution_count": null,
      "outputs": [
        {
          "output_type": "stream",
          "name": "stdout",
          "text": [
            "Arredondado para 3 casas:  3.142\n"
          ]
        }
      ]
    },
    {
      "cell_type": "markdown",
      "source": [
        "- abs()"
      ],
      "metadata": {
        "id": "6A16FA581FW1"
      }
    },
    {
      "cell_type": "code",
      "source": [
        "numero = -10\n",
        "print(\"Valor absoluto de\", numero, \"é:\", abs(numero))"
      ],
      "metadata": {
        "colab": {
          "base_uri": "https://localhost:8080/"
        },
        "id": "D4pgbaPH1HtT",
        "outputId": "97dd8cae-b03f-4b03-d3f1-700d28bfc1cf"
      },
      "execution_count": null,
      "outputs": [
        {
          "output_type": "stream",
          "name": "stdout",
          "text": [
            "Valor absoluto de -10 é: 10\n"
          ]
        }
      ]
    },
    {
      "cell_type": "markdown",
      "source": [
        "- sorted()"
      ],
      "metadata": {
        "id": "XBOE8i_D18mm"
      }
    },
    {
      "cell_type": "code",
      "source": [
        "palavra = \"Aula de Python!?\"\n",
        "print(sorted(palavra))"
      ],
      "metadata": {
        "colab": {
          "base_uri": "https://localhost:8080/"
        },
        "id": "NNlqdYNj1-o1",
        "outputId": "a373827e-0302-4d7a-ef45-3575fd8d5c64"
      },
      "execution_count": null,
      "outputs": [
        {
          "output_type": "stream",
          "name": "stdout",
          "text": [
            "[' ', ' ', '!', '?', 'A', 'P', 'a', 'd', 'e', 'h', 'l', 'n', 'o', 't', 'u', 'y']\n"
          ]
        }
      ]
    },
    {
      "cell_type": "markdown",
      "source": [
        "- enumerate()"
      ],
      "metadata": {
        "id": "UYNnMkLD26tj"
      }
    },
    {
      "cell_type": "code",
      "source": [
        "letras = \"ABCDEF\"\n",
        "for indice, letra in enumerate(letras):\n",
        "  print(f\"{indice}: {letra}\")"
      ],
      "metadata": {
        "colab": {
          "base_uri": "https://localhost:8080/"
        },
        "id": "DK3XizsH2-Sq",
        "outputId": "ac263117-4ed3-4faf-a880-543b704c0d0f"
      },
      "execution_count": null,
      "outputs": [
        {
          "output_type": "stream",
          "name": "stdout",
          "text": [
            "0: A\n",
            "1: B\n",
            "2: C\n",
            "3: D\n",
            "4: E\n",
            "5: F\n"
          ]
        }
      ]
    },
    {
      "cell_type": "markdown",
      "source": [
        "- max() e min()"
      ],
      "metadata": {
        "id": "ekWCM4Dg3g-q"
      }
    },
    {
      "cell_type": "code",
      "source": [
        "numeros = [2, 5, 1, 8, 3]\n",
        "print(\"O maior valor é:\", max(numeros))\n",
        "print(\"O menir valor é:\", min(numeros))"
      ],
      "metadata": {
        "colab": {
          "base_uri": "https://localhost:8080/"
        },
        "id": "DIzpAD3z3jqj",
        "outputId": "613c3d89-d692-4bfb-b5a6-cf72898d660b"
      },
      "execution_count": null,
      "outputs": [
        {
          "output_type": "stream",
          "name": "stdout",
          "text": [
            "O maior valor é: 8\n",
            "O menir valor é: 1\n"
          ]
        }
      ]
    },
    {
      "cell_type": "markdown",
      "source": [
        "- sum()"
      ],
      "metadata": {
        "id": "LlMPwZf14c96"
      }
    },
    {
      "cell_type": "code",
      "source": [
        "numeros = [2, 5, 1, 8, 3]\n",
        "print(\"A soma dos números é:\", sum(numeros))"
      ],
      "metadata": {
        "colab": {
          "base_uri": "https://localhost:8080/"
        },
        "id": "iahrjSvo3_3u",
        "outputId": "15277111-d675-4afb-e9b9-380950747775"
      },
      "execution_count": null,
      "outputs": [
        {
          "output_type": "stream",
          "name": "stdout",
          "text": [
            "A soma dos números é: 19\n"
          ]
        }
      ]
    },
    {
      "cell_type": "markdown",
      "source": [
        "- pow()"
      ],
      "metadata": {
        "id": "JKTihsgm42WB"
      }
    },
    {
      "cell_type": "code",
      "source": [
        "print(\"3 elevado a 4 é:\", pow(3, 4))"
      ],
      "metadata": {
        "colab": {
          "base_uri": "https://localhost:8080/"
        },
        "id": "JPzeZ8KA47XP",
        "outputId": "094d30f6-7e3c-40ec-c715-ab4f90b7954d"
      },
      "execution_count": null,
      "outputs": [
        {
          "output_type": "stream",
          "name": "stdout",
          "text": [
            "3 elevado a 4 é: 81\n"
          ]
        }
      ]
    },
    {
      "cell_type": "code",
      "source": [
        "print(3 ** 4)"
      ],
      "metadata": {
        "colab": {
          "base_uri": "https://localhost:8080/"
        },
        "id": "Y535HtIf5N6I",
        "outputId": "341a16ed-3eaf-4ba6-cb8f-eab93a31bc9e"
      },
      "execution_count": null,
      "outputs": [
        {
          "output_type": "stream",
          "name": "stdout",
          "text": [
            "81\n"
          ]
        }
      ]
    },
    {
      "cell_type": "markdown",
      "source": [
        "- Biblioteca Math"
      ],
      "metadata": {
        "id": "qf8FgNvO5Wmy"
      }
    },
    {
      "cell_type": "code",
      "source": [
        "import math\n",
        "print(math.sqrt(25))"
      ],
      "metadata": {
        "colab": {
          "base_uri": "https://localhost:8080/"
        },
        "id": "Osr3KWyK5Yym",
        "outputId": "33de5bf1-248c-40d2-ba30-046eba9c433a"
      },
      "execution_count": null,
      "outputs": [
        {
          "output_type": "stream",
          "name": "stdout",
          "text": [
            "5.0\n"
          ]
        }
      ]
    },
    {
      "cell_type": "markdown",
      "source": [
        "- help()"
      ],
      "metadata": {
        "id": "NtlVgmcp6BCy"
      }
    },
    {
      "cell_type": "code",
      "source": [
        "help(sum)"
      ],
      "metadata": {
        "colab": {
          "base_uri": "https://localhost:8080/"
        },
        "id": "iviIp7ph6G-n",
        "outputId": "55e4ff05-a9a7-44b6-b6b1-677efd371119"
      },
      "execution_count": null,
      "outputs": [
        {
          "output_type": "stream",
          "name": "stdout",
          "text": [
            "Help on built-in function pow in module builtins:\n",
            "\n",
            "pow(base, exp, mod=None)\n",
            "    Equivalent to base**exp with 2 arguments or base**exp % mod with 3 arguments\n",
            "    \n",
            "    Some types, such as ints, are able to use a more efficient algorithm when\n",
            "    invoked using the three argument form.\n",
            "\n"
          ]
        }
      ]
    },
    {
      "cell_type": "markdown",
      "source": [
        "- Programa pedindo para o usuário digitar um número decimal negativo e exibir o valor absoluto arredondado em 2 casas."
      ],
      "metadata": {
        "id": "9ulNAevp6xZa"
      }
    },
    {
      "cell_type": "code",
      "source": [
        "numero = float(input(\"Digite um número decimal e negativo: \"))\n",
        "print(\"Valor absoluto arredondado: \", round(abs(numero),2)) #round(valor, arredondar)\n",
        "print(\"Valor absoluto arredondado: \", abs(round(numero, 2)))\n"
      ],
      "metadata": {
        "colab": {
          "base_uri": "https://localhost:8080/"
        },
        "id": "zpmwoOxu87Yd",
        "outputId": "84d7c275-e146-4e88-da3c-7ce8deb01641"
      },
      "execution_count": null,
      "outputs": [
        {
          "output_type": "stream",
          "name": "stdout",
          "text": [
            "Digite um número decimal e negativo: -9.254364353\n",
            "Valor absoluto arredondado:  9.25\n",
            "Valor absoluto arredondado:  9.25\n"
          ]
        }
      ]
    },
    {
      "cell_type": "code",
      "source": [
        "numero = 9.421421412412\n",
        "\n",
        "print(f\"O valor é: {round(numero, 2)}\")"
      ],
      "metadata": {
        "colab": {
          "base_uri": "https://localhost:8080/"
        },
        "id": "hRP3F3j7-lJv",
        "outputId": "5c616e6a-933a-41a1-8bc5-9f1698cdef9f"
      },
      "execution_count": null,
      "outputs": [
        {
          "output_type": "stream",
          "name": "stdout",
          "text": [
            "O valor é: 9.42\n"
          ]
        }
      ]
    },
    {
      "cell_type": "markdown",
      "source": [
        "## Funções com def"
      ],
      "metadata": {
        "id": "bZUtIGsHA7NB"
      }
    },
    {
      "cell_type": "code",
      "source": [
        "def saudacao():\n",
        "  print(\"Olá, bem-vindo!\")\n",
        "\n",
        "saudacao()"
      ],
      "metadata": {
        "colab": {
          "base_uri": "https://localhost:8080/"
        },
        "id": "XpVPfmoZA-SY",
        "outputId": "96dd4892-d282-4e99-c079-959ba173c46f"
      },
      "execution_count": null,
      "outputs": [
        {
          "output_type": "stream",
          "name": "stdout",
          "text": [
            "Olá, bem-vindo!\n"
          ]
        }
      ]
    },
    {
      "cell_type": "code",
      "source": [
        "def saudacao(x):\n",
        "  print(f\"Olá {x}, bem-vindo!\")\n",
        "\n",
        "nome = input(\"Digite seu nome\")\n",
        "saudacao(nome)"
      ],
      "metadata": {
        "colab": {
          "base_uri": "https://localhost:8080/"
        },
        "id": "Js-DID30CJay",
        "outputId": "1bd6fade-8a2d-4b0d-d214-c0ec2da45fad"
      },
      "execution_count": null,
      "outputs": [
        {
          "output_type": "stream",
          "name": "stdout",
          "text": [
            "Digite seu nomePedro\n",
            "Olá Pedro, bem-vindo!\n"
          ]
        }
      ]
    },
    {
      "cell_type": "code",
      "source": [
        "def dobro(numero):\n",
        "  return numero * 2\n",
        "\n",
        "resultado = dobro(5)\n",
        "print(\"O dobro é:\", resultado)"
      ],
      "metadata": {
        "colab": {
          "base_uri": "https://localhost:8080/"
        },
        "id": "9mSmHJfYEa81",
        "outputId": "150aecec-9924-4e81-bd49-4e976d77b2f1"
      },
      "execution_count": null,
      "outputs": [
        {
          "output_type": "stream",
          "name": "stdout",
          "text": [
            "O dobro é: 10\n"
          ]
        }
      ]
    },
    {
      "cell_type": "markdown",
      "source": [
        "- Crie uma função fatorial que receba um número e retorne seu fatorial"
      ],
      "metadata": {
        "id": "W_zS8i_XF5Tn"
      }
    },
    {
      "cell_type": "code",
      "source": [
        "def fatorial(n):\n",
        "  resultado = 1\n",
        "  for i in range(1, n + 1):\n",
        "    resultado = resultado * i\n",
        "  return resultado\n",
        "\n",
        "numero = int(input(\"Digite um número inteiro: \"))\n",
        "retorno = fatorial(numero)\n",
        "print(f\"O fatorial de {numero} é:\", retorno)"
      ],
      "metadata": {
        "colab": {
          "base_uri": "https://localhost:8080/"
        },
        "id": "dZFrLnGuF_qh",
        "outputId": "8ea0e19b-d23a-48c0-88ed-b8b94decde50"
      },
      "execution_count": null,
      "outputs": [
        {
          "output_type": "stream",
          "name": "stdout",
          "text": [
            "Digite um número inteiro: 10\n",
            "O fatorial de 10 é:  3628800\n"
          ]
        }
      ]
    },
    {
      "cell_type": "markdown",
      "source": [
        "- Crie uma função que a partir da entrada da posição retorne qual é o valor na sequência de Fibonacci."
      ],
      "metadata": {
        "id": "llRC8SnBOBTv"
      }
    },
    {
      "cell_type": "code",
      "source": [
        "def fibonacci(n):\n",
        "  troca = 1\n",
        "  valor1 = 0\n",
        "  valor2 = 1\n",
        "  if n == 0:\n",
        "    return 0\n",
        "  elif n == 1:\n",
        "    return 1\n",
        "  else:\n",
        "    for i in range(2, n+1):\n",
        "      troca = valor2\n",
        "      valor2 = valor1 + valor2\n",
        "      valor1 = troca\n",
        "    return valor2\n",
        "\n",
        "numero = int(input(\"Digite um número maior ou igual a 0: \"))\n",
        "retorno = fibonacci(numero)\n",
        "print(f\"O fibonacci de {numero} é:\", retorno)"
      ],
      "metadata": {
        "colab": {
          "base_uri": "https://localhost:8080/"
        },
        "id": "g8kkY2l_OMrZ",
        "outputId": "7921e645-4cfe-4513-a335-75dcafe87ac2"
      },
      "execution_count": null,
      "outputs": [
        {
          "output_type": "stream",
          "name": "stdout",
          "text": [
            "Digite um número maior ou igual a 0: 3\n",
            "O fibonacci de 3 é: 2\n"
          ]
        }
      ]
    },
    {
      "cell_type": "code",
      "source": [
        "def fibonacci(n):\n",
        "  if n == 0:\n",
        "    return 0\n",
        "  elif n == 1:\n",
        "    return 1\n",
        "  else:\n",
        "    resultado = fibonacci(n - 1) + fibonacci(n - 2)\n",
        "    return resultado\n",
        "\n",
        "numero = int(input(\"Digite um número maior ou igual a 1: \"))\n",
        "retorno = fibonacci(numero)\n",
        "print(f\"O fibonacci de {numero} é:\", retorno)"
      ],
      "metadata": {
        "colab": {
          "base_uri": "https://localhost:8080/"
        },
        "id": "4iXOzZWRTqPe",
        "outputId": "2676cb39-6305-475c-fe55-51bcd3f6d1b0"
      },
      "execution_count": null,
      "outputs": [
        {
          "output_type": "stream",
          "name": "stdout",
          "text": [
            "Digite um número maior ou igual a 1: 3\n",
            "O fibonacci de 3 é: 2\n"
          ]
        }
      ]
    }
  ]
}